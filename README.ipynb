{
 "cells": [
  {
   "cell_type": "markdown",
   "metadata": {},
   "source": [
    "# Projeto_Mod05_Ada_VemSerTech"
   ]
  },
  {
   "cell_type": "markdown",
   "metadata": {},
   "source": [
    "Aluna : Lorrany Deraldina Lemos de Aquino"
   ]
  },
  {
   "cell_type": "markdown",
   "metadata": {},
   "source": [
    "## Objetivos:\n",
    "\n",
    "Realizar uma análise descritiva por completo da base (Variáveis discretas e contínuas);\n",
    "Avaliar a distribuição de probabilidade de variáveis contínuas que considera mais interessante;"
   ]
  },
  {
   "cell_type": "markdown",
   "metadata": {},
   "source": [
    "## Sobre a base de dados: "
   ]
  },
  {
   "cell_type": "markdown",
   "metadata": {},
   "source": [
    "Base de dados: https://www.kaggle.com/datasets/giovamata/airlinedelaycauses"
   ]
  },
  {
   "cell_type": "markdown",
   "metadata": {},
   "source": [
    "O Bureau of Transportation Statistics (BTS) do Departamento de Transportes dos EUA (DOT) acompanha o desempenho pontual dos voos domésticos operados por grandes companhias aéreas. Informações resumidas sobre o número de voos dentro do prazo, atrasados, cancelados e desviados aparecem no Relatório mensal do Consumidor de Viagens Aéreas do DOT, publicado cerca de 30 dias após o final do mês, bem como em tabelas de resumo publicadas neste site. O BTS começou a coletar detalhes sobre as causas dos atrasos nos voos em junho de 2003. Estatísticas resumidas e dados brutos são disponibilizados ao público no momento em que o Relatório do Consumidor de Viagens Aéreas é lançado.\n",
    "\n",
    "Esta versão do conjunto de dados foi compilada da Statistical Computing Statistical Graphics 2009 Data Expo e também está disponível aqui"
   ]
  },
  {
   "cell_type": "markdown",
   "metadata": {},
   "source": [
    "Year: O ano da data do voo.\n",
    "\n",
    "Month: O mês da data do voo.\n",
    "\n",
    "DayofMonth: O dia do mês da data do voo.\n",
    "\n",
    "DayOfWeek: O dia da semana da data do voo (1 para segunda-feira, 2 para terça-feira, e assim por diante).\n",
    "\n",
    "DepTime: A hora de partida real do voo (formato HHMM).\n",
    "\n",
    "CRSDepTime: A hora de partida programada do voo (formato HHMM).\n",
    "\n",
    "ArrTime: A hora de chegada real do voo (formato HHMM).\n",
    "\n",
    "CRSArrTime: A hora de chegada programada do voo (formato HHMM).\n",
    "\n",
    "UniqueCarrier: O código do transportador aéreo.\n",
    "\n",
    "FlightNum: O número do voo.\n",
    "\n",
    "TailNum: O número de cauda da aeronave.\n",
    "\n",
    "ActualElapsedTime: O tempo real de voo em minutos.\n",
    "\n",
    "CRSElapsedTime: O tempo de voo programado em minutos.\n",
    "\n",
    "AirTime: O tempo real no ar em minutos.\n",
    "\n",
    "ArrDelay: O atraso na chegada em minutos.\n",
    "\n",
    "DepDelay: O atraso na partida em minutos.\n",
    "\n",
    "Origin: O aeroporto de origem do voo.\n",
    "\n",
    "Dest: O aeroporto de destino do voo.\n",
    "\n",
    "Distance: A distância percorrida em milhas.\n",
    "\n",
    "TaxiIn: O tempo desde que a aeronave começa a se mover na pista até o momento em que efetivamente decola. Antes da decolagem\n",
    "\n",
    "TaxiOut: O tempo desde que a aeronave toca o solo até chegar ao portão de desembarque no pouso.\n",
    "\n",
    "Cancelled: Indica se o voo foi cancelado (1 para sim, 0 para não).\n",
    "\n",
    "CancellationCode: O código de cancelamento, se o voo foi cancelado. Sendo A = transportadora, B = clima, C = NAS(National Airspace System), D = segurança\n",
    "\n",
    "Diverted: Indica se o voo foi desviado (1 para sim, 0 para não).\n",
    "\n",
    "CarrierDelay: O tempo de atraso atribuído à companhia aérea em minutos.\n",
    "\n",
    "WeatherDelay: O tempo de atraso atribuído ao clima em minutos.\n",
    "\n",
    "NASDelay: O tempo de atraso atribuído ao Sistema Nacional de Aviação em minutos.\n",
    "\n",
    "SecurityDelay: O tempo de atraso atribuído à segurança em minutos.\n",
    "\n",
    "LateAircraftDelay: O tempo de atraso atribuído à aeronave em minutos."
   ]
  }
 ],
 "metadata": {
  "kernelspec": {
   "display_name": "Python 3",
   "language": "python",
   "name": "python3"
  },
  "language_info": {
   "name": "python",
   "version": "3.12.0"
  }
 },
 "nbformat": 4,
 "nbformat_minor": 2
}
