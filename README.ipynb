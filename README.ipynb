{
 "cells": [
  {
   "cell_type": "markdown",
   "metadata": {},
   "source": [
    "# Projeto_Mod05_Ada_VemSerTech"
   ]
  },
  {
   "cell_type": "markdown",
   "metadata": {},
   "source": [
    "Aluna : Lorrany Deraldina Lemos de Aquino"
   ]
  },
  {
   "cell_type": "markdown",
   "metadata": {},
   "source": [
    "## Objetivos:\n",
    "\n",
    "Realizar uma análise descritiva por completo da base (Variáveis discretas e contínuas);\n",
    "Avaliar a distribuição de probabilidade de variáveis contínuas que considera mais interessante;"
   ]
  },
  {
   "cell_type": "markdown",
   "metadata": {},
   "source": [
    "## Sobre a base de dados: "
   ]
  },
  {
   "cell_type": "markdown",
   "metadata": {},
   "source": [
    "Base de dados: https://www.kaggle.com/datasets/giovamata/airlinedelaycauses"
   ]
  },
  {
   "cell_type": "markdown",
   "metadata": {},
   "source": [
    "O Bureau of Transportation Statistics (BTS) do Departamento de Transportes dos EUA (DOT) acompanha o desempenho pontual dos voos domésticos operados por grandes companhias aéreas. Informações resumidas sobre o número de voos dentro do prazo, atrasados, cancelados e desviados aparecem no Relatório mensal do Consumidor de Viagens Aéreas do DOT, publicado cerca de 30 dias após o final do mês, bem como em tabelas de resumo publicadas neste site. O BTS começou a coletar detalhes sobre as causas dos atrasos nos voos em junho de 2003. Estatísticas resumidas e dados brutos são disponibilizados ao público no momento em que o Relatório do Consumidor de Viagens Aéreas é lançado.\n",
    "\n",
    "Esta versão do conjunto de dados foi compilada da Statistical Computing Statistical Graphics 2009 Data Expo e também está disponível aqui"
   ]
  }
 ],
 "metadata": {
  "kernelspec": {
   "display_name": "Python 3",
   "language": "python",
   "name": "python3"
  },
  "language_info": {
   "name": "python",
   "version": "3.12.0"
  }
 },
 "nbformat": 4,
 "nbformat_minor": 2
}
